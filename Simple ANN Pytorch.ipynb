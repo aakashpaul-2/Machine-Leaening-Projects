{
  "nbformat": 4,
  "nbformat_minor": 0,
  "metadata": {
    "kernelspec": {
      "display_name": "Python 3",
      "language": "python",
      "name": "python3"
    },
    "language_info": {
      "codemirror_mode": {
        "name": "ipython",
        "version": 3
      },
      "file_extension": ".py",
      "mimetype": "text/x-python",
      "name": "python",
      "nbconvert_exporter": "python",
      "pygments_lexer": "ipython3",
      "version": "3.6.10"
    },
    "colab": {
      "name": "Paul_Aakash_4C.ipynb",
      "provenance": [],
      "collapsed_sections": [],
      "include_colab_link": true
    },
    "accelerator": "GPU"
  },
  "cells": [
    {
      "cell_type": "markdown",
      "metadata": {
        "id": "view-in-github",
        "colab_type": "text"
      },
      "source": [
        "<a href=\"https://colab.research.google.com/github/aakashpaul-2/Machine-Learning-Projects/blob/main/Simple%20ANN%20Pytorch.ipynb\" target=\"_parent\"><img src=\"https://colab.research.google.com/assets/colab-badge.svg\" alt=\"Open In Colab\"/></a>"
      ]
    },
    {
      "cell_type": "markdown",
      "metadata": {
        "id": "XBrkQytufEFV"
      },
      "source": [
        "# Module 4 Guidance\n",
        "\n",
        "This notebook is a template for module 4b and 4c, which will be tested in Google Colab, your code needs to run there.\n",
        "The structure has been provided to improve consistency and make it easier for markers to understand your code but still give students the flexibility to be creative.  You need to populate the required functions to solve this problem.  All dependencies should be documented in the next cell.\n",
        "\n",
        "You can:\n",
        "    add further cells or text blocks to extend or further explain your solution\n",
        "    add further functions\n",
        "\n",
        "Dont:\n",
        "    rename functions\n",
        "   "
      ]
    },
    {
      "cell_type": "code",
      "metadata": {
        "id": "4LucOJDjfEFW",
        "colab": {
          "base_uri": "https://localhost:8080/"
        },
        "outputId": "8111ddeb-4318-46d8-9bdb-bec5e0d6454a"
      },
      "source": [
        "# Fixed dependencies - do not remove or change.\n",
        "import pytest\n",
        "import pandas as pd\n",
        "import numpy as np\n",
        "from google.colab import drive\n",
        "drive.mount('/content/gdrive/')\n",
        "\n",
        "# Import your dependencies\n",
        "from sklearn.preprocessing import LabelEncoder\n",
        "from sklearn.model_selection import train_test_split\n",
        "import torch\n",
        "import torch.nn as nn\n",
        "import matplotlib.pyplot as plt\n",
        "from sklearn.metrics import confusion_matrix, classification_report"
      ],
      "execution_count": null,
      "outputs": [
        {
          "output_type": "stream",
          "text": [
            "Drive already mounted at /content/gdrive/; to attempt to forcibly remount, call drive.mount(\"/content/gdrive/\", force_remount=True).\n"
          ],
          "name": "stdout"
        }
      ]
    },
    {
      "cell_type": "code",
      "metadata": {
        "id": "hTOOkkwffEFZ"
      },
      "source": [
        "# Import data\n",
        "\n",
        "def import_local_data(file_path):\n",
        "    raw_df = pd.read_excel(file_path)\n",
        "    return raw_df"
      ],
      "execution_count": null,
      "outputs": []
    },
    {
      "cell_type": "code",
      "metadata": {
        "id": "4nA7jFzLfEFb"
      },
      "source": [
        "local_file_path = \"/content/gdrive/My Drive/Colab_Notebooks/Challenges/breast-cancer.xls\""
      ],
      "execution_count": null,
      "outputs": []
    },
    {
      "cell_type": "code",
      "metadata": {
        "id": "3zMiJ4kmfEFe"
      },
      "source": [
        "# Dont change\n",
        "raw_data = import_local_data(local_file_path)"
      ],
      "execution_count": null,
      "outputs": []
    },
    {
      "cell_type": "markdown",
      "metadata": {
        "id": "02nOo90_fEFg"
      },
      "source": [
        "### Conduct exploratory data analysis and explain your key findings - Examine the data, explain its key features and what they look like.  Highlight any fields that are anomalous."
      ]
    },
    {
      "cell_type": "code",
      "metadata": {
        "id": "KXVtuevYfEFh",
        "colab": {
          "base_uri": "https://localhost:8080/",
          "height": 204
        },
        "outputId": "48963916-8051-42fa-e418-8eb0a12f7af6"
      },
      "source": [
        "raw_data.head()"
      ],
      "execution_count": null,
      "outputs": [
        {
          "output_type": "execute_result",
          "data": {
            "text/html": [
              "<div>\n",
              "<style scoped>\n",
              "    .dataframe tbody tr th:only-of-type {\n",
              "        vertical-align: middle;\n",
              "    }\n",
              "\n",
              "    .dataframe tbody tr th {\n",
              "        vertical-align: top;\n",
              "    }\n",
              "\n",
              "    .dataframe thead th {\n",
              "        text-align: right;\n",
              "    }\n",
              "</style>\n",
              "<table border=\"1\" class=\"dataframe\">\n",
              "  <thead>\n",
              "    <tr style=\"text-align: right;\">\n",
              "      <th></th>\n",
              "      <th>age</th>\n",
              "      <th>menopause</th>\n",
              "      <th>tumor-size</th>\n",
              "      <th>inv-nodes</th>\n",
              "      <th>node-caps</th>\n",
              "      <th>deg-malig</th>\n",
              "      <th>breast</th>\n",
              "      <th>breast-quad</th>\n",
              "      <th>irradiat</th>\n",
              "      <th>Class</th>\n",
              "    </tr>\n",
              "  </thead>\n",
              "  <tbody>\n",
              "    <tr>\n",
              "      <th>0</th>\n",
              "      <td>40-49</td>\n",
              "      <td>premeno</td>\n",
              "      <td>15-19</td>\n",
              "      <td>0-2</td>\n",
              "      <td>yes</td>\n",
              "      <td>3</td>\n",
              "      <td>right</td>\n",
              "      <td>left_up</td>\n",
              "      <td>no</td>\n",
              "      <td>recurrence-events</td>\n",
              "    </tr>\n",
              "    <tr>\n",
              "      <th>1</th>\n",
              "      <td>50-59</td>\n",
              "      <td>ge40</td>\n",
              "      <td>15-19</td>\n",
              "      <td>0-2</td>\n",
              "      <td>no</td>\n",
              "      <td>1</td>\n",
              "      <td>right</td>\n",
              "      <td>central</td>\n",
              "      <td>no</td>\n",
              "      <td>no-recurrence-events</td>\n",
              "    </tr>\n",
              "    <tr>\n",
              "      <th>2</th>\n",
              "      <td>50-59</td>\n",
              "      <td>ge40</td>\n",
              "      <td>35-39</td>\n",
              "      <td>0-2</td>\n",
              "      <td>no</td>\n",
              "      <td>2</td>\n",
              "      <td>left</td>\n",
              "      <td>left_low</td>\n",
              "      <td>no</td>\n",
              "      <td>recurrence-events</td>\n",
              "    </tr>\n",
              "    <tr>\n",
              "      <th>3</th>\n",
              "      <td>40-49</td>\n",
              "      <td>premeno</td>\n",
              "      <td>35-39</td>\n",
              "      <td>0-2</td>\n",
              "      <td>yes</td>\n",
              "      <td>3</td>\n",
              "      <td>right</td>\n",
              "      <td>left_low</td>\n",
              "      <td>yes</td>\n",
              "      <td>no-recurrence-events</td>\n",
              "    </tr>\n",
              "    <tr>\n",
              "      <th>4</th>\n",
              "      <td>40-49</td>\n",
              "      <td>premeno</td>\n",
              "      <td>30-34</td>\n",
              "      <td>2019-05-03 00:00:00</td>\n",
              "      <td>yes</td>\n",
              "      <td>2</td>\n",
              "      <td>left</td>\n",
              "      <td>right_up</td>\n",
              "      <td>no</td>\n",
              "      <td>recurrence-events</td>\n",
              "    </tr>\n",
              "  </tbody>\n",
              "</table>\n",
              "</div>"
            ],
            "text/plain": [
              "     age menopause tumor-size  ... breast-quad irradiat                 Class\n",
              "0  40-49   premeno      15-19  ...     left_up       no     recurrence-events\n",
              "1  50-59      ge40      15-19  ...     central       no  no-recurrence-events\n",
              "2  50-59      ge40      35-39  ...    left_low       no     recurrence-events\n",
              "3  40-49   premeno      35-39  ...    left_low      yes  no-recurrence-events\n",
              "4  40-49   premeno      30-34  ...    right_up       no     recurrence-events\n",
              "\n",
              "[5 rows x 10 columns]"
            ]
          },
          "metadata": {
            "tags": []
          },
          "execution_count": 76
        }
      ]
    },
    {
      "cell_type": "code",
      "metadata": {
        "id": "nfVxxNaRfEFj"
      },
      "source": [
        "# Analysing each column in detail"
      ],
      "execution_count": null,
      "outputs": []
    },
    {
      "cell_type": "code",
      "metadata": {
        "id": "72rUUacFuUPN",
        "colab": {
          "base_uri": "https://localhost:8080/",
          "height": 304
        },
        "outputId": "70b063d7-0821-4035-d333-05992906dd1d"
      },
      "source": [
        "raw_data['age'].value_counts().plot.bar()\n",
        "# 6 different age groups found (i.e. 6 distinct values). Age group with the most data seems to be between 40-59\n",
        "# Approach is to use dummy variables to represent each age group as more than 2 categories present"
      ],
      "execution_count": null,
      "outputs": [
        {
          "output_type": "execute_result",
          "data": {
            "text/plain": [
              "<matplotlib.axes._subplots.AxesSubplot at 0x7f2541ffe390>"
            ]
          },
          "metadata": {
            "tags": []
          },
          "execution_count": 78
        },
        {
          "output_type": "display_data",
          "data": {
            "image/png": "[encoded data removed]",
            "text/plain": [
              "<Figure size 432x288 with 1 Axes>"
            ]
          },
          "metadata": {
            "tags": [],
            "needs_background": "light"
          }
        }
      ]
    },
    {
      "cell_type": "code",
      "metadata": {
        "id": "4gvD8MXovW3n",
        "colab": {
          "base_uri": "https://localhost:8080/",
          "height": 317
        },
        "outputId": "56a3daee-45e1-418d-ab56-cc90a21ba94d"
      },
      "source": [
        "raw_data['menopause'].value_counts().plot.bar()\n",
        "# 3 different menopause categories found (i.e. 3 distinct values). Very few with lt40\n",
        "# Approach is to use dummy variables to represent each menopause category as more than 2 categories present"
      ],
      "execution_count": null,
      "outputs": [
        {
          "output_type": "execute_result",
          "data": {
            "text/plain": [
              "<matplotlib.axes._subplots.AxesSubplot at 0x7f254c063ba8>"
            ]
          },
          "metadata": {
            "tags": []
          },
          "execution_count": 79
        },
        {
          "output_type": "display_data",
          "data": {
            "image/png": "[encoded data removed]",
            "text/plain": [
              "<Figure size 432x288 with 1 Axes>"
            ]
          },
          "metadata": {
            "tags": [],
            "needs_background": "light"
          }
        }
      ]
    },
    {
      "cell_type": "code",
      "metadata": {
        "id": "ad7VquZuvXU4",
        "colab": {
          "base_uri": "https://localhost:8080/",
          "height": 360
        },
        "outputId": "42f52d1a-6c4a-41f7-9aa2-1a5cc07fdd5b"
      },
      "source": [
        "raw_data['tumor-size'].value_counts().plot.bar()\n",
        "# 9 different tumor-size categories found (i.e. 9 distinct values).\n",
        "# two distinct datetime values with tumor-size values - errors within the dataset and needs to be cleaned\n",
        "df_tumor_values = raw_data['tumor-size'].value_counts().index\n",
        "df_tumor_values_timestamp_1 = df_tumor_values[4]\n",
        "df_tumor_values_timestamp_2 = df_tumor_values[9]"
      ],
      "execution_count": null,
      "outputs": [
        {
          "output_type": "display_data",
          "data": {
            "image/png": "[encoded data removed]",
            "text/plain": [
              "<Figure size 432x288 with 1 Axes>"
            ]
          },
          "metadata": {
            "tags": [],
            "needs_background": "light"
          }
        }
      ]
    },
    {
      "cell_type": "code",
      "metadata": {
        "id": "hXGJkTtrvXaC",
        "colab": {
          "base_uri": "https://localhost:8080/",
          "height": 377
        },
        "outputId": "9220c458-39cd-4e1d-fb1a-0d60e1d3fd73"
      },
      "source": [
        "raw_data['inv-nodes'].value_counts().plot.bar()\n",
        "# several date values within this column\n",
        "# majority of values are labelled 0-2 (small variance) - hence drop this column"
      ],
      "execution_count": null,
      "outputs": [
        {
          "output_type": "execute_result",
          "data": {
            "text/plain": [
              "<matplotlib.axes._subplots.AxesSubplot at 0x7f2541f724e0>"
            ]
          },
          "metadata": {
            "tags": []
          },
          "execution_count": 81
        },
        {
          "output_type": "display_data",
          "data": {
            "image/png": "[encoded data removed]",
            "text/plain": [
              "<Figure size 432x288 with 1 Axes>"
            ]
          },
          "metadata": {
            "tags": [],
            "needs_background": "light"
          }
        }
      ]
    },
    {
      "cell_type": "code",
      "metadata": {
        "id": "G0mxhsqcwSj5",
        "colab": {
          "base_uri": "https://localhost:8080/",
          "height": 290
        },
        "outputId": "17b8573a-0a18-4815-84ad-c0965fd9ac0d"
      },
      "source": [
        "raw_data['node-caps'].value_counts().plot.bar()\n",
        "# 2 different node-caps categories found (i.e. 2 distinct values). Mostly no.\n",
        "# Approach is to use Label Encoder to represent Yes/No category as only 2 categories are present.\n",
        "# Some missing values that needs to be cleaned"
      ],
      "execution_count": null,
      "outputs": [
        {
          "output_type": "execute_result",
          "data": {
            "text/plain": [
              "<matplotlib.axes._subplots.AxesSubplot at 0x7f2541e73e10>"
            ]
          },
          "metadata": {
            "tags": []
          },
          "execution_count": 82
        },
        {
          "output_type": "display_data",
          "data": {
            "image/png": "[encoded data removed]",
            "text/plain": [
              "<Figure size 432x288 with 1 Axes>"
            ]
          },
          "metadata": {
            "tags": [],
            "needs_background": "light"
          }
        }
      ]
    },
    {
      "cell_type": "code",
      "metadata": {
        "id": "Epo4hXqKwS0w",
        "colab": {
          "base_uri": "https://localhost:8080/",
          "height": 279
        },
        "outputId": "dbacface-7c55-4e9b-d4fc-b4d7d49adce5"
      },
      "source": [
        "raw_data['deg-malig'].value_counts().plot.bar()\n",
        "# 3 different deg-malig categories found (i.e. 3 distinct values)"
      ],
      "execution_count": null,
      "outputs": [
        {
          "output_type": "execute_result",
          "data": {
            "text/plain": [
              "<matplotlib.axes._subplots.AxesSubplot at 0x7f2541dd8710>"
            ]
          },
          "metadata": {
            "tags": []
          },
          "execution_count": 83
        },
        {
          "output_type": "display_data",
          "data": {
            "image/png": "[encoded data removed]",
            "text/plain": [
              "<Figure size 432x288 with 1 Axes>"
            ]
          },
          "metadata": {
            "tags": [],
            "needs_background": "light"
          }
        }
      ]
    },
    {
      "cell_type": "code",
      "metadata": {
        "id": "demqi6iFwS3Q",
        "colab": {
          "base_uri": "https://localhost:8080/",
          "height": 296
        },
        "outputId": "f5fa58f2-4fad-4a87-c4a7-d2f506539b58"
      },
      "source": [
        "raw_data['breast'].value_counts().plot.bar()\n",
        "# 2 different deg-malig categories found (i.e. 2 distinct values)"
      ],
      "execution_count": null,
      "outputs": [
        {
          "output_type": "execute_result",
          "data": {
            "text/plain": [
              "<matplotlib.axes._subplots.AxesSubplot at 0x7f2541d903c8>"
            ]
          },
          "metadata": {
            "tags": []
          },
          "execution_count": 84
        },
        {
          "output_type": "display_data",
          "data": {
            "image/png": "[encoded data removed]",
            "text/plain": [
              "<Figure size 432x288 with 1 Axes>"
            ]
          },
          "metadata": {
            "tags": [],
            "needs_background": "light"
          }
        }
      ]
    },
    {
      "cell_type": "code",
      "metadata": {
        "id": "Jh_JwxFRwSpo",
        "colab": {
          "base_uri": "https://localhost:8080/",
          "height": 318
        },
        "outputId": "d3f6f9b2-b309-4014-96e5-83a2e4c13f26"
      },
      "source": [
        "raw_data['breast-quad'].value_counts().plot.bar()\n",
        "# 5 different node-caps categories found (i.e. 5 distinct values)\n",
        "# Some missing values that needs to be cleaned"
      ],
      "execution_count": null,
      "outputs": [
        {
          "output_type": "execute_result",
          "data": {
            "text/plain": [
              "<matplotlib.axes._subplots.AxesSubplot at 0x7f2541d09c50>"
            ]
          },
          "metadata": {
            "tags": []
          },
          "execution_count": 85
        },
        {
          "output_type": "display_data",
          "data": {
            "image/png": "[encoded data removed]",
            "text/plain": [
              "<Figure size 432x288 with 1 Axes>"
            ]
          },
          "metadata": {
            "tags": [],
            "needs_background": "light"
          }
        }
      ]
    },
    {
      "cell_type": "code",
      "metadata": {
        "id": "dhAyv3DXwSml",
        "colab": {
          "base_uri": "https://localhost:8080/",
          "height": 290
        },
        "outputId": "d2533be1-9103-4e61-9ad8-1f1d577ee209"
      },
      "source": [
        "raw_data['irradiat'].value_counts().plot.bar()\n",
        "# 2 different deg-malig categories found (i.e. 2 distinct values)"
      ],
      "execution_count": null,
      "outputs": [
        {
          "output_type": "execute_result",
          "data": {
            "text/plain": [
              "<matplotlib.axes._subplots.AxesSubplot at 0x7f2541cee390>"
            ]
          },
          "metadata": {
            "tags": []
          },
          "execution_count": 86
        },
        {
          "output_type": "display_data",
          "data": {
            "image/png": "[encoded data removed]",
            "text/plain": [
              "<Figure size 432x288 with 1 Axes>"
            ]
          },
          "metadata": {
            "tags": [],
            "needs_background": "light"
          }
        }
      ]
    },
    {
      "cell_type": "code",
      "metadata": {
        "id": "0BuEXvcAwSNY",
        "colab": {
          "base_uri": "https://localhost:8080/",
          "height": 380
        },
        "outputId": "3b97f855-79c7-4516-e767-e095b612112d"
      },
      "source": [
        "raw_data['Class'].value_counts().plot.bar()\n",
        "# 2 different deg-malig categories found (i.e. 2 distinct values)"
      ],
      "execution_count": null,
      "outputs": [
        {
          "output_type": "execute_result",
          "data": {
            "text/plain": [
              "<matplotlib.axes._subplots.AxesSubplot at 0x7f2541c66358>"
            ]
          },
          "metadata": {
            "tags": []
          },
          "execution_count": 87
        },
        {
          "output_type": "display_data",
          "data": {
            "image/png": "[encoded data removed]",
            "text/plain": [
              "<Figure size 432x288 with 1 Axes>"
            ]
          },
          "metadata": {
            "tags": [],
            "needs_background": "light"
          }
        }
      ]
    },
    {
      "cell_type": "markdown",
      "metadata": {
        "id": "8uMrnBaskYUd"
      },
      "source": [
        "Create any data pre-processing that you will conduct on seen and unseen data. Regardless of the model you use, this dataframe must contain only numeric features and have a strategy for any expected missing values. Any objects can that are needed to handle the test data that are dependent on the training data can be stored in the model class. You are recommended to use sklearn Pipelines or similar functionality to ensure reproducibility."
      ]
    },
    {
      "cell_type": "code",
      "metadata": {
        "id": "4hDNwKIweMKE"
      },
      "source": [
        "# similat preprocessing steps as 4B applied for 4C"
      ],
      "execution_count": null,
      "outputs": []
    },
    {
      "cell_type": "code",
      "metadata": {
        "id": "9CEGRzU-kbDL"
      },
      "source": [
        "def preprocessing_train(raw_data):\n",
        "\n",
        "  raw_data = raw_data.drop([\"inv-nodes\"], axis = 1)\n",
        "  # removing datetime objects from tumor-size\n",
        "  raw_data = raw_data.drop(raw_data[(raw_data[\"tumor-size\"] == df_tumor_values_timestamp_1) | (raw_data[\"tumor-size\"] == df_tumor_values_timestamp_2) | (raw_data[\"node-caps\"] == \"?\") | (raw_data['breast-quad'] == \"?\") ].index )\n",
        "     \n",
        "  # changing variables to catagorical values\n",
        "  # defining the target variable y\n",
        "  y = raw_data.iloc[:,-1]\n",
        "\n",
        "  # changing target to catagorical variables using label encoder to obtain an array\n",
        "  labelencoder = LabelEncoder()\n",
        "  y = labelencoder.fit_transform(y)\n",
        "\n",
        "  # changing variables to catagorical values for input variables\n",
        "  X = raw_data.iloc[:,:8]\n",
        "\n",
        "  # changing all input variables to catagorical values using pandas get dummies. First column for each input variable dropped to avoid dummy variable trap\n",
        "  X = X.astype('category')\n",
        "  X = pd.get_dummies(X, drop_first = True)\n",
        "\n",
        "  X = X.reindex(sorted(X.columns), axis=1)\n",
        "\n",
        "  return X, y"
      ],
      "execution_count": null,
      "outputs": []
    },
    {
      "cell_type": "code",
      "metadata": {
        "id": "gtvWv_gallPt"
      },
      "source": [
        "def preprocessing_test(raw_data):\n",
        "  \n",
        "  raw_data = raw_data.drop([\"inv-nodes\"], axis = 1)\n",
        "  # removing datetime objects from tumor-size\n",
        "  raw_data = raw_data.drop(raw_data[(raw_data[\"tumor-size\"] == df_tumor_values_timestamp_1) | (raw_data[\"tumor-size\"] == df_tumor_values_timestamp_2) | (raw_data[\"node-caps\"] == \"?\") | (raw_data['breast-quad'] == \"?\") ].index )\n",
        "     \n",
        "  # changing variables to catagorical values\n",
        "  # defining the target variable y\n",
        "  y = raw_data.iloc[:,-1]\n",
        "\n",
        "  # changing target to catagorical variables using label encoder to obtain an array\n",
        "  labelencoder = LabelEncoder()\n",
        "  y = labelencoder.fit_transform(y)\n",
        "\n",
        "  # changing variables to catagorical values for input variables\n",
        "  X = raw_data.iloc[:,:8]\n",
        "\n",
        "  # changing all input variables to catagorical values using pandas get dummies. First column for each input variable dropped to avoid dummy variable trap\n",
        "  X = X.astype('category')\n",
        "  X = pd.get_dummies(X, drop_first = True)\n",
        "\n",
        "  # if columns are not the same size as the x_train columns - add these missing columns\n",
        "  extra_col = []\n",
        "\n",
        "  if X_train.shape[1] != X.shape[1]:\n",
        "    for i in range((X_train.shape[1])):\n",
        "      if X_train.columns[i] not in X.columns:\n",
        "        extra_col.append(X_train.columns[i])\n",
        " \n",
        "  if len(extra_col) != 0:\n",
        "    for i in range(len(extra_col)):\n",
        "      X[extra_col[i]] = 0\n",
        "\n",
        "  # sorted to ensure consistent column format to train data\n",
        "  X = X.reindex(sorted(X.columns), axis=1)\n",
        "\n",
        "  return X, y"
      ],
      "execution_count": null,
      "outputs": []
    },
    {
      "cell_type": "code",
      "metadata": {
        "id": "3ZkT1XbOfEFs"
      },
      "source": [
        "# Populate preprocess_training_data and preprocess_test_data to preprocess data.\n",
        "# You must process test and train separately so your model does not accidently gain information that a model wouldnt have in reality and therefore get better predictions"
      ],
      "execution_count": null,
      "outputs": []
    },
    {
      "cell_type": "code",
      "metadata": {
        "id": "0hLk4jTbfEFu"
      },
      "source": [
        "class Module4_Model:\n",
        "    \n",
        "    def __init__(self):\n",
        "        self.model = None\n",
        "    \n",
        "    def train_test_split(self,raw_data):\n",
        "      train, test = train_test_split(raw_data, test_size = 0.25, random_state = 42)\n",
        "      return train, test\n",
        "\n",
        "    def preprocess_training_data(self, train):\n",
        "      \n",
        "      X_train, y_train = preprocessing_train(train)\n",
        "      return X_train, y_train\n",
        "\n",
        "    def preprocess_test_data(self, test):\n",
        "      \n",
        "      X_test, y_test = preprocessing_test(test)\n",
        "      return  X_test, y_test"
      ],
      "execution_count": null,
      "outputs": []
    },
    {
      "cell_type": "code",
      "metadata": {
        "id": "HeCKLLFafEFw"
      },
      "source": [
        "# Dont change\n",
        "my_model = Module4_Model()"
      ],
      "execution_count": null,
      "outputs": []
    },
    {
      "cell_type": "code",
      "metadata": {
        "id": "g9C-sOLnfEFy"
      },
      "source": [
        "# Dont change\n",
        "# data is split before the preprocessing steps are applied\n",
        "train, test = my_model.train_test_split(raw_data)\n",
        "# data preprocessing to get train values\n",
        "X_train, y_train = my_model.preprocess_training_data(train)"
      ],
      "execution_count": null,
      "outputs": []
    },
    {
      "cell_type": "code",
      "metadata": {
        "id": "j7xNOAfDfEF0"
      },
      "source": [
        "# Create a model"
      ],
      "execution_count": null,
      "outputs": []
    },
    {
      "cell_type": "code",
      "metadata": {
        "id": "aqJ9TJLQqZ9w",
        "colab": {
          "base_uri": "https://localhost:8080/"
        },
        "outputId": "5d6c0902-4ae6-4779-bb50-268652ff4578"
      },
      "source": [
        "# checking whether the model can run on the GPU\n",
        "device = torch.device(\"cuda:0\" if torch.cuda.is_available() else \"cpu\")\n",
        "print(device)"
      ],
      "execution_count": null,
      "outputs": [
        {
          "output_type": "stream",
          "text": [
            "cuda:0\n"
          ],
          "name": "stdout"
        }
      ]
    },
    {
      "cell_type": "code",
      "metadata": {
        "id": "kIC_fJcWpgXm",
        "colab": {
          "base_uri": "https://localhost:8080/"
        },
        "outputId": "c3c6041d-b7f5-4fc9-8c90-23ae1461e770"
      },
      "source": [
        "# number of inputs for the ANN model\n",
        "n_inputs = X_train.shape[1]\n",
        "print(n_inputs)"
      ],
      "execution_count": null,
      "outputs": [
        {
          "output_type": "stream",
          "text": [
            "24\n"
          ],
          "name": "stdout"
        }
      ]
    },
    {
      "cell_type": "code",
      "metadata": {
        "id": "A3QY0dU0kmVI"
      },
      "source": [
        "# a simple model structure is defined where with 24 - 1 neuron in only one layer \n",
        "# sigmoid activation used as outcome is given a probability between 0 or 1 i.e. non-recurrence-event  < 0.5 or recurrence-event >= 0.5\n",
        "model = nn.Sequential(\n",
        "    nn.Linear(n_inputs, 1),\n",
        "    nn.Sigmoid()\n",
        ")\n",
        "# assigning the model to the GPU\n",
        "model.to(device)\n",
        "# Binary cross entropy loss criterion used as output is 2 classes (0 and 1)\n",
        "criterion = nn.BCELoss()\n",
        "# adam optimzer used during back propagation for gradient descent\n",
        "optimizer = torch.optim.Adam(model.parameters(),lr=0.001)"
      ],
      "execution_count": null,
      "outputs": []
    },
    {
      "cell_type": "code",
      "metadata": {
        "id": "qx3W-NP8wsMd"
      },
      "source": [
        "# converted to numpy to convert to tensors\n",
        "X_train_tensor = X_train\n",
        "X_train_tensor = X_train_tensor.to_numpy()\n"
      ],
      "execution_count": null,
      "outputs": []
    },
    {
      "cell_type": "code",
      "metadata": {
        "id": "n2OnIVx9qZnX"
      },
      "source": [
        "# Convert train data into torch tensors\n",
        "X_train_tensor = torch.from_numpy(X_train_tensor.astype(np.float32))\n",
        "y_train_tensor = torch.from_numpy(y_train.astype(np.float32).reshape(-1, 1))\n",
        "\n",
        "X_train_tensor, y_train_tensor = X_train_tensor.to(device), y_train_tensor.to(device)\n"
      ],
      "execution_count": null,
      "outputs": []
    },
    {
      "cell_type": "code",
      "metadata": {
        "id": "P2g324lczOOK",
        "colab": {
          "base_uri": "https://localhost:8080/"
        },
        "outputId": "febd5348-a311-45c0-b3e9-3184b54e7657"
      },
      "source": [
        "# Train the model\n",
        "n_epochs = 10000\n",
        "\n",
        "# Stuff to store\n",
        "train_losses = np.zeros(n_epochs)\n",
        "test_losses = np.zeros(n_epochs)\n",
        "\n",
        "for it in range(n_epochs):\n",
        "  # zero the parameter gradients\n",
        "  optimizer.zero_grad()\n",
        "\n",
        "  # Forward pass\n",
        "  outputs = model(X_train_tensor)\n",
        "  loss = criterion(outputs, y_train_tensor)\n",
        "    \n",
        "  # Backward and optimize\n",
        "  loss.backward()\n",
        "  optimizer.step()\n",
        "\n",
        "  # Save losses\n",
        "  train_losses[it] = loss.item()\n",
        "      \n",
        "  if (it + 1) % 50 == 0:\n",
        "    print(f'Epoch {it+1}/{n_epochs}, Train Loss: {loss.item():.4f}')\n"
      ],
      "execution_count": null,
      "outputs": [
        {
          "output_type": "stream",
          "text": [
            "Epoch 50/10000, Train Loss: 0.6552\n",
            "Epoch 100/10000, Train Loss: 0.6340\n",
            "Epoch 150/10000, Train Loss: 0.6185\n",
            "Epoch 200/10000, Train Loss: 0.6062\n",
            "Epoch 250/10000, Train Loss: 0.5960\n",
            "Epoch 300/10000, Train Loss: 0.5876\n",
            "Epoch 350/10000, Train Loss: 0.5805\n",
            "Epoch 400/10000, Train Loss: 0.5745\n",
            "Epoch 450/10000, Train Loss: 0.5694\n",
            "Epoch 500/10000, Train Loss: 0.5651\n",
            "Epoch 550/10000, Train Loss: 0.5615\n",
            "Epoch 600/10000, Train Loss: 0.5583\n",
            "Epoch 650/10000, Train Loss: 0.5556\n",
            "Epoch 700/10000, Train Loss: 0.5533\n",
            "Epoch 750/10000, Train Loss: 0.5513\n",
            "Epoch 800/10000, Train Loss: 0.5496\n",
            "Epoch 850/10000, Train Loss: 0.5481\n",
            "Epoch 900/10000, Train Loss: 0.5468\n",
            "Epoch 950/10000, Train Loss: 0.5456\n",
            "Epoch 1000/10000, Train Loss: 0.5446\n",
            "Epoch 1050/10000, Train Loss: 0.5437\n",
            "Epoch 1100/10000, Train Loss: 0.5429\n",
            "Epoch 1150/10000, Train Loss: 0.5422\n",
            "Epoch 1200/10000, Train Loss: 0.5416\n",
            "Epoch 1250/10000, Train Loss: 0.5410\n",
            "Epoch 1300/10000, Train Loss: 0.5405\n",
            "Epoch 1350/10000, Train Loss: 0.5400\n",
            "Epoch 1400/10000, Train Loss: 0.5396\n",
            "Epoch 1450/10000, Train Loss: 0.5392\n",
            "Epoch 1500/10000, Train Loss: 0.5388\n",
            "Epoch 1550/10000, Train Loss: 0.5385\n",
            "Epoch 1600/10000, Train Loss: 0.5382\n",
            "Epoch 1650/10000, Train Loss: 0.5379\n",
            "Epoch 1700/10000, Train Loss: 0.5377\n",
            "Epoch 1750/10000, Train Loss: 0.5374\n",
            "Epoch 1800/10000, Train Loss: 0.5372\n",
            "Epoch 1850/10000, Train Loss: 0.5370\n",
            "Epoch 1900/10000, Train Loss: 0.5368\n",
            "Epoch 1950/10000, Train Loss: 0.5366\n",
            "Epoch 2000/10000, Train Loss: 0.5365\n",
            "Epoch 2050/10000, Train Loss: 0.5363\n",
            "Epoch 2100/10000, Train Loss: 0.5361\n",
            "Epoch 2150/10000, Train Loss: 0.5360\n",
            "Epoch 2200/10000, Train Loss: 0.5358\n",
            "Epoch 2250/10000, Train Loss: 0.5357\n",
            "Epoch 2300/10000, Train Loss: 0.5355\n",
            "Epoch 2350/10000, Train Loss: 0.5354\n",
            "Epoch 2400/10000, Train Loss: 0.5353\n",
            "Epoch 2450/10000, Train Loss: 0.5351\n",
            "Epoch 2500/10000, Train Loss: 0.5350\n",
            "Epoch 2550/10000, Train Loss: 0.5349\n",
            "Epoch 2600/10000, Train Loss: 0.5348\n",
            "Epoch 2650/10000, Train Loss: 0.5347\n",
            "Epoch 2700/10000, Train Loss: 0.5346\n",
            "Epoch 2750/10000, Train Loss: 0.5344\n",
            "Epoch 2800/10000, Train Loss: 0.5343\n",
            "Epoch 2850/10000, Train Loss: 0.5342\n",
            "Epoch 2900/10000, Train Loss: 0.5341\n",
            "Epoch 2950/10000, Train Loss: 0.5340\n",
            "Epoch 3000/10000, Train Loss: 0.5339\n",
            "Epoch 3050/10000, Train Loss: 0.5338\n",
            "Epoch 3100/10000, Train Loss: 0.5337\n",
            "Epoch 3150/10000, Train Loss: 0.5336\n",
            "Epoch 3200/10000, Train Loss: 0.5335\n",
            "Epoch 3250/10000, Train Loss: 0.5335\n",
            "Epoch 3300/10000, Train Loss: 0.5334\n",
            "Epoch 3350/10000, Train Loss: 0.5333\n",
            "Epoch 3400/10000, Train Loss: 0.5332\n",
            "Epoch 3450/10000, Train Loss: 0.5331\n",
            "Epoch 3500/10000, Train Loss: 0.5330\n",
            "Epoch 3550/10000, Train Loss: 0.5329\n",
            "Epoch 3600/10000, Train Loss: 0.5329\n",
            "Epoch 3650/10000, Train Loss: 0.5328\n",
            "Epoch 3700/10000, Train Loss: 0.5327\n",
            "Epoch 3750/10000, Train Loss: 0.5326\n",
            "Epoch 3800/10000, Train Loss: 0.5326\n",
            "Epoch 3850/10000, Train Loss: 0.5325\n",
            "Epoch 3900/10000, Train Loss: 0.5324\n",
            "Epoch 3950/10000, Train Loss: 0.5324\n",
            "Epoch 4000/10000, Train Loss: 0.5323\n",
            "Epoch 4050/10000, Train Loss: 0.5322\n",
            "Epoch 4100/10000, Train Loss: 0.5322\n",
            "Epoch 4150/10000, Train Loss: 0.5321\n",
            "Epoch 4200/10000, Train Loss: 0.5320\n",
            "Epoch 4250/10000, Train Loss: 0.5320\n",
            "Epoch 4300/10000, Train Loss: 0.5319\n",
            "Epoch 4350/10000, Train Loss: 0.5319\n",
            "Epoch 4400/10000, Train Loss: 0.5318\n",
            "Epoch 4450/10000, Train Loss: 0.5317\n",
            "Epoch 4500/10000, Train Loss: 0.5317\n",
            "Epoch 4550/10000, Train Loss: 0.5316\n",
            "Epoch 4600/10000, Train Loss: 0.5316\n",
            "Epoch 4650/10000, Train Loss: 0.5315\n",
            "Epoch 4700/10000, Train Loss: 0.5315\n",
            "Epoch 4750/10000, Train Loss: 0.5314\n",
            "Epoch 4800/10000, Train Loss: 0.5314\n",
            "Epoch 4850/10000, Train Loss: 0.5313\n",
            "Epoch 4900/10000, Train Loss: 0.5313\n",
            "Epoch 4950/10000, Train Loss: 0.5312\n",
            "Epoch 5000/10000, Train Loss: 0.5312\n",
            "Epoch 5050/10000, Train Loss: 0.5311\n",
            "Epoch 5100/10000, Train Loss: 0.5311\n",
            "Epoch 5150/10000, Train Loss: 0.5311\n",
            "Epoch 5200/10000, Train Loss: 0.5310\n",
            "Epoch 5250/10000, Train Loss: 0.5310\n",
            "Epoch 5300/10000, Train Loss: 0.5309\n",
            "Epoch 5350/10000, Train Loss: 0.5309\n",
            "Epoch 5400/10000, Train Loss: 0.5309\n",
            "Epoch 5450/10000, Train Loss: 0.5308\n",
            "Epoch 5500/10000, Train Loss: 0.5308\n",
            "Epoch 5550/10000, Train Loss: 0.5307\n",
            "Epoch 5600/10000, Train Loss: 0.5307\n",
            "Epoch 5650/10000, Train Loss: 0.5307\n",
            "Epoch 5700/10000, Train Loss: 0.5306\n",
            "Epoch 5750/10000, Train Loss: 0.5306\n",
            "Epoch 5800/10000, Train Loss: 0.5306\n",
            "Epoch 5850/10000, Train Loss: 0.5305\n",
            "Epoch 5900/10000, Train Loss: 0.5305\n",
            "Epoch 5950/10000, Train Loss: 0.5305\n",
            "Epoch 6000/10000, Train Loss: 0.5304\n",
            "Epoch 6050/10000, Train Loss: 0.5304\n",
            "Epoch 6100/10000, Train Loss: 0.5304\n",
            "Epoch 6150/10000, Train Loss: 0.5303\n",
            "Epoch 6200/10000, Train Loss: 0.5303\n",
            "Epoch 6250/10000, Train Loss: 0.5303\n",
            "Epoch 6300/10000, Train Loss: 0.5302\n",
            "Epoch 6350/10000, Train Loss: 0.5302\n",
            "Epoch 6400/10000, Train Loss: 0.5302\n",
            "Epoch 6450/10000, Train Loss: 0.5301\n",
            "Epoch 6500/10000, Train Loss: 0.5301\n",
            "Epoch 6550/10000, Train Loss: 0.5301\n",
            "Epoch 6600/10000, Train Loss: 0.5301\n",
            "Epoch 6650/10000, Train Loss: 0.5300\n",
            "Epoch 6700/10000, Train Loss: 0.5300\n",
            "Epoch 6750/10000, Train Loss: 0.5300\n",
            "Epoch 6800/10000, Train Loss: 0.5299\n",
            "Epoch 6850/10000, Train Loss: 0.5299\n",
            "Epoch 6900/10000, Train Loss: 0.5299\n",
            "Epoch 6950/10000, Train Loss: 0.5299\n",
            "Epoch 7000/10000, Train Loss: 0.5298\n",
            "Epoch 7050/10000, Train Loss: 0.5298\n",
            "Epoch 7100/10000, Train Loss: 0.5298\n",
            "Epoch 7150/10000, Train Loss: 0.5298\n",
            "Epoch 7200/10000, Train Loss: 0.5297\n",
            "Epoch 7250/10000, Train Loss: 0.5297\n",
            "Epoch 7300/10000, Train Loss: 0.5297\n",
            "Epoch 7350/10000, Train Loss: 0.5297\n",
            "Epoch 7400/10000, Train Loss: 0.5296\n",
            "Epoch 7450/10000, Train Loss: 0.5296\n",
            "Epoch 7500/10000, Train Loss: 0.5296\n",
            "Epoch 7550/10000, Train Loss: 0.5296\n",
            "Epoch 7600/10000, Train Loss: 0.5295\n",
            "Epoch 7650/10000, Train Loss: 0.5295\n",
            "Epoch 7700/10000, Train Loss: 0.5295\n",
            "Epoch 7750/10000, Train Loss: 0.5295\n",
            "Epoch 7800/10000, Train Loss: 0.5294\n",
            "Epoch 7850/10000, Train Loss: 0.5294\n",
            "Epoch 7900/10000, Train Loss: 0.5294\n",
            "Epoch 7950/10000, Train Loss: 0.5294\n",
            "Epoch 8000/10000, Train Loss: 0.5294\n",
            "Epoch 8050/10000, Train Loss: 0.5293\n",
            "Epoch 8100/10000, Train Loss: 0.5293\n",
            "Epoch 8150/10000, Train Loss: 0.5293\n",
            "Epoch 8200/10000, Train Loss: 0.5293\n",
            "Epoch 8250/10000, Train Loss: 0.5293\n",
            "Epoch 8300/10000, Train Loss: 0.5292\n",
            "Epoch 8350/10000, Train Loss: 0.5292\n",
            "Epoch 8400/10000, Train Loss: 0.5292\n",
            "Epoch 8450/10000, Train Loss: 0.5292\n",
            "Epoch 8500/10000, Train Loss: 0.5292\n",
            "Epoch 8550/10000, Train Loss: 0.5292\n",
            "Epoch 8600/10000, Train Loss: 0.5291\n",
            "Epoch 8650/10000, Train Loss: 0.5291\n",
            "Epoch 8700/10000, Train Loss: 0.5291\n",
            "Epoch 8750/10000, Train Loss: 0.5291\n",
            "Epoch 8800/10000, Train Loss: 0.5291\n",
            "Epoch 8850/10000, Train Loss: 0.5291\n",
            "Epoch 8900/10000, Train Loss: 0.5290\n",
            "Epoch 8950/10000, Train Loss: 0.5290\n",
            "Epoch 9000/10000, Train Loss: 0.5290\n",
            "Epoch 9050/10000, Train Loss: 0.5290\n",
            "Epoch 9100/10000, Train Loss: 0.5290\n",
            "Epoch 9150/10000, Train Loss: 0.5290\n",
            "Epoch 9200/10000, Train Loss: 0.5289\n",
            "Epoch 9250/10000, Train Loss: 0.5289\n",
            "Epoch 9300/10000, Train Loss: 0.5289\n",
            "Epoch 9350/10000, Train Loss: 0.5289\n",
            "Epoch 9400/10000, Train Loss: 0.5289\n",
            "Epoch 9450/10000, Train Loss: 0.5289\n",
            "Epoch 9500/10000, Train Loss: 0.5289\n",
            "Epoch 9550/10000, Train Loss: 0.5289\n",
            "Epoch 9600/10000, Train Loss: 0.5288\n",
            "Epoch 9650/10000, Train Loss: 0.5288\n",
            "Epoch 9700/10000, Train Loss: 0.5288\n",
            "Epoch 9750/10000, Train Loss: 0.5288\n",
            "Epoch 9800/10000, Train Loss: 0.5288\n",
            "Epoch 9850/10000, Train Loss: 0.5288\n",
            "Epoch 9900/10000, Train Loss: 0.5288\n",
            "Epoch 9950/10000, Train Loss: 0.5288\n",
            "Epoch 10000/10000, Train Loss: 0.5288\n"
          ],
          "name": "stdout"
        }
      ]
    },
    {
      "cell_type": "code",
      "metadata": {
        "id": "R_Z1tx8DESeA",
        "colab": {
          "base_uri": "https://localhost:8080/",
          "height": 265
        },
        "outputId": "5855664f-ee6b-4cf5-bcda-f4af2392bfa5"
      },
      "source": [
        "# Plot the train loss and test loss per iteration\n",
        "plt.plot(train_losses, label='train loss')\n",
        "#plt.plot(test_losses, label='test loss')\n",
        "plt.legend()\n",
        "plt.show()\n",
        "\n",
        "# train loss decreases per epoch - suggests model is performing well "
      ],
      "execution_count": null,
      "outputs": [
        {
          "output_type": "display_data",
          "data": {
            "image/png": "[encoded data removed]",
            "text/plain": [
              "<Figure size 432x288 with 1 Axes>"
            ]
          },
          "metadata": {
            "tags": [],
            "needs_background": "light"
          }
        }
      ]
    },
    {
      "cell_type": "code",
      "metadata": {
        "id": "vvfyEUA7lF9X"
      },
      "source": [
        "# test data\n",
        "X_test, y_test = my_model.preprocess_test_data(test)"
      ],
      "execution_count": null,
      "outputs": []
    },
    {
      "cell_type": "code",
      "metadata": {
        "id": "tzaHaeOtlqEm"
      },
      "source": [
        "# converting to tensors and moving to GPU\n",
        "X_test_tensor = X_test\n",
        "X_test_tensor = X_test_tensor.to_numpy()\n",
        "X_test_tensor = torch.from_numpy(X_test_tensor.astype(np.float32))\n",
        "y_test_tensor = torch.from_numpy(y_test.astype(np.float32).reshape(-1, 1))\n",
        "X_test_tensor, y_test_tensor = X_test_tensor.to(device), y_test_tensor.to(device)"
      ],
      "execution_count": null,
      "outputs": []
    },
    {
      "cell_type": "code",
      "metadata": {
        "id": "241gyac3FYT3"
      },
      "source": [
        "# predictions\n",
        "# converting to tensors for prediction and back to cpu for comparison\n",
        "with torch.no_grad():\n",
        "  y_pred = model(X_test_tensor)\n",
        "  y_pred = y_pred.cpu()\n",
        "\n",
        "  \n"
      ],
      "execution_count": null,
      "outputs": []
    },
    {
      "cell_type": "code",
      "metadata": {
        "id": "l3VlF5QPEV-x"
      },
      "source": [
        "# values above 0.4 == TRUE i.e. recurrence-event for both prediction and test set\n",
        "# threshold of 0.4 used consistent with task 4B\n",
        "y_pred = y_pred  > 0.4\n",
        "\n",
        "y_test = y_test  > 0.4\n"
      ],
      "execution_count": null,
      "outputs": []
    },
    {
      "cell_type": "code",
      "metadata": {
        "id": "F55uDdDQEDTx"
      },
      "source": [
        "cm_test = confusion_matrix(y_test,y_pred)"
      ],
      "execution_count": null,
      "outputs": []
    },
    {
      "cell_type": "code",
      "metadata": {
        "id": "7MeY_SF6fEF2",
        "colab": {
          "base_uri": "https://localhost:8080/"
        },
        "outputId": "61b9135f-092f-4f41-ad39-8ac19d82cf60"
      },
      "source": [
        "# confusion matrix shows that false negative rates are high\n",
        "cm_test"
      ],
      "execution_count": null,
      "outputs": [
        {
          "output_type": "execute_result",
          "data": {
            "text/plain": [
              "array([[37,  4],\n",
              "       [12,  7]])"
            ]
          },
          "metadata": {
            "tags": []
          },
          "execution_count": 110
        }
      ]
    },
    {
      "cell_type": "code",
      "metadata": {
        "id": "wt2hria-VYJO"
      },
      "source": [
        "report_nn = classification_report(y_test, y_pred)"
      ],
      "execution_count": null,
      "outputs": []
    },
    {
      "cell_type": "code",
      "metadata": {
        "colab": {
          "base_uri": "https://localhost:8080/"
        },
        "id": "UhYbgsuZVoWc",
        "outputId": "20f3228d-d490-41f2-879c-31dfbf9bbd6f"
      },
      "source": [
        "# classification report shows moderate accuracy of 73% with a f1-score of 47% for true values\n",
        "print(report_nn)\n"
      ],
      "execution_count": null,
      "outputs": [
        {
          "output_type": "stream",
          "text": [
            "              precision    recall  f1-score   support\n",
            "\n",
            "       False       0.76      0.90      0.82        41\n",
            "        True       0.64      0.37      0.47        19\n",
            "\n",
            "    accuracy                           0.73        60\n",
            "   macro avg       0.70      0.64      0.64        60\n",
            "weighted avg       0.72      0.73      0.71        60\n",
            "\n"
          ],
          "name": "stdout"
        }
      ]
    },
    {
      "cell_type": "markdown",
      "metadata": {
        "id": "9IGahfSwfEGG"
      },
      "source": [
        "### Unit tests:"
      ]
    },
    {
      "cell_type": "markdown",
      "metadata": {
        "id": "J9A65GPBfEGG"
      },
      "source": [
        "#### Checking training and test data for null values. This will work for both pd dataframes and np arrays, and ensures no null values exist."
      ]
    },
    {
      "cell_type": "code",
      "metadata": {
        "id": "33gXgbodfEGH"
      },
      "source": [
        "def test_no_nulls(data):\n",
        "    \"\"\" Assert no null values within pd dataframe or np array \"\"\"\n",
        "    \n",
        "    # if data is numpy array, handle accordingly\n",
        "    if isinstance(data, (np.ndarray)):\n",
        "        assert not np.isnan(np.min(data))\n",
        "    \n",
        "    # if not np array, assume data is pandas dataframe\n",
        "    else:\n",
        "        assert data.isna().sum().sum() == 0"
      ],
      "execution_count": null,
      "outputs": []
    },
    {
      "cell_type": "code",
      "metadata": {
        "id": "3HIeDZZ8fEGJ"
      },
      "source": [
        "# run null data unit test on both training and test data\n",
        "test_no_nulls(x_train_processed)\n",
        "test_no_nulls(x_test_processed)"
      ],
      "execution_count": null,
      "outputs": []
    }
  ]
}