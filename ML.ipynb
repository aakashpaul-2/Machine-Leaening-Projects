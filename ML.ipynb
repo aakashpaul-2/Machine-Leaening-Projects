{
  "nbformat": 4,
  "nbformat_minor": 0,
  "metadata": {
    "kernelspec": {
      "display_name": "Python 3",
      "language": "python",
      "name": "python3"
    },
    "language_info": {
      "codemirror_mode": {
        "name": "ipython",
        "version": 3
      },
      "file_extension": ".py",
      "mimetype": "text/x-python",
      "name": "python",
      "nbconvert_exporter": "python",
      "pygments_lexer": "ipython3",
      "version": "3.6.10"
    },
    "colab": {
      "name": "Paul_Aakash_4B.ipynb",
      "provenance": [],
      "collapsed_sections": [],
      "include_colab_link": true
    },
    "accelerator": "GPU"
  },
  "cells": [
    {
      "cell_type": "markdown",
      "metadata": {
        "id": "view-in-github",
        "colab_type": "text"
      },
      "source": [
        "<a href=\"https://colab.research.google.com/github/aakashpaul-2/Machine-Learning-Projects/blob/main/ML.ipynb\" target=\"_parent\"><img src=\"https://colab.research.google.com/assets/colab-badge.svg\" alt=\"Open In Colab\"/></a>"
      ]
    },
    {
      "cell_type": "markdown",
      "metadata": {
        "id": "XBrkQytufEFV"
      },
      "source": [
        "# Module 4 Guidance\n",
        "\n",
        "This notebook is a template for module 4b and 4c, which will be tested in Google Colab, your code needs to run there.\n",
        "The structure has been provided to improve consistency and make it easier for markers to understand your code but still give students the flexibility to be creative.  You need to populate the required functions to solve this problem.  All dependencies should be documented in the next cell.\n",
        "\n",
        "You can:\n",
        "    add further cells or text blocks to extend or further explain your solution\n",
        "    add further functions\n",
        "\n",
        "Dont:\n",
        "    rename functions\n",
        "   "
      ]
    },
    {
      "cell_type": "code",
      "metadata": {
        "id": "4LucOJDjfEFW",
        "colab": {
          "base_uri": "https://localhost:8080/"
        },
        "outputId": "8c9f71fb-1497-4f2a-fc52-ccc6a51c3b59"
      },
      "source": [
        "# Fixed dependencies - do not remove or change.\n",
        "import pytest\n",
        "import pandas as pd\n",
        "import numpy as np\n",
        "from google.colab import drive\n",
        "drive.mount('/content/gdrive/')\n",
        "\n",
        "# Import your dependencies\n",
        "from sklearn.preprocessing import LabelEncoder\n",
        "from sklearn.model_selection import train_test_split\n",
        "from sklearn.linear_model import LogisticRegression\n",
        "from sklearn.metrics import confusion_matrix, classification_report\n",
        "from sklearn.metrics import precision_recall_curve, auc\n",
        "import matplotlib.pyplot as plt\n",
        "from sklearn.model_selection import GridSearchCV\n",
        "from xgboost import XGBClassifier\n"
      ],
      "execution_count": null,
      "outputs": [
        {
          "output_type": "stream",
          "text": [
            "Mounted at /content/gdrive/\n"
          ],
          "name": "stdout"
        }
      ]
    },
    {
      "cell_type": "code",
      "metadata": {
        "id": "hTOOkkwffEFZ"
      },
      "source": [
        "# Import data\n",
        "\n",
        "def import_local_data(file_path):\n",
        "    raw_df = pd.read_excel(file_path)\n",
        "    return raw_df"
      ],
      "execution_count": null,
      "outputs": []
    },
    {
      "cell_type": "code",
      "metadata": {
        "id": "4nA7jFzLfEFb"
      },
      "source": [
        "local_file_path = \"/content/gdrive/My Drive/Colab_Notebooks/Challenges/breast-cancer.xls\""
      ],
      "execution_count": null,
      "outputs": []
    },
    {
      "cell_type": "code",
      "metadata": {
        "id": "PW3fh46GsVsX",
        "colab": {
          "base_uri": "https://localhost:8080/"
        },
        "outputId": "4f134066-cb5e-4d00-de9b-a53e6c52a91e"
      },
      "source": [
        "!ls"
      ],
      "execution_count": null,
      "outputs": [
        {
          "output_type": "stream",
          "text": [
            "gdrive\tsample_data\n"
          ],
          "name": "stdout"
        }
      ]
    },
    {
      "cell_type": "code",
      "metadata": {
        "id": "3zMiJ4kmfEFe"
      },
      "source": [
        "# Dont change\n",
        "raw_data = import_local_data(local_file_path)"
      ],
      "execution_count": null,
      "outputs": []
    },
    {
      "cell_type": "markdown",
      "metadata": {
        "id": "02nOo90_fEFg"
      },
      "source": [
        "### Conduct exploratory data analysis and explain your key findings - Examine the data, explain its key features and what they look like.  Highlight any fields that are anomalous."
      ]
    },
    {
      "cell_type": "code",
      "metadata": {
        "id": "KXVtuevYfEFh",
        "colab": {
          "base_uri": "https://localhost:8080/",
          "height": 204
        },
        "outputId": "19c29c5b-7d50-471c-bb8d-3bf679137ec3"
      },
      "source": [
        "raw_data.head()"
      ],
      "execution_count": null,
      "outputs": [
        {
          "output_type": "execute_result",
          "data": {
            "text/html": [
              "<div>\n",
              "<style scoped>\n",
              "    .dataframe tbody tr th:only-of-type {\n",
              "        vertical-align: middle;\n",
              "    }\n",
              "\n",
              "    .dataframe tbody tr th {\n",
              "        vertical-align: top;\n",
              "    }\n",
              "\n",
              "    .dataframe thead th {\n",
              "        text-align: right;\n",
              "    }\n",
              "</style>\n",
              "<table border=\"1\" class=\"dataframe\">\n",
              "  <thead>\n",
              "    <tr style=\"text-align: right;\">\n",
              "      <th></th>\n",
              "      <th>age</th>\n",
              "      <th>menopause</th>\n",
              "      <th>tumor-size</th>\n",
              "      <th>inv-nodes</th>\n",
              "      <th>node-caps</th>\n",
              "      <th>deg-malig</th>\n",
              "      <th>breast</th>\n",
              "      <th>breast-quad</th>\n",
              "      <th>irradiat</th>\n",
              "      <th>Class</th>\n",
              "    </tr>\n",
              "  </thead>\n",
              "  <tbody>\n",
              "    <tr>\n",
              "      <th>0</th>\n",
              "      <td>40-49</td>\n",
              "      <td>premeno</td>\n",
              "      <td>15-19</td>\n",
              "      <td>0-2</td>\n",
              "      <td>yes</td>\n",
              "      <td>3</td>\n",
              "      <td>right</td>\n",
              "      <td>left_up</td>\n",
              "      <td>no</td>\n",
              "      <td>recurrence-events</td>\n",
              "    </tr>\n",
              "    <tr>\n",
              "      <th>1</th>\n",
              "      <td>50-59</td>\n",
              "      <td>ge40</td>\n",
              "      <td>15-19</td>\n",
              "      <td>0-2</td>\n",
              "      <td>no</td>\n",
              "      <td>1</td>\n",
              "      <td>right</td>\n",
              "      <td>central</td>\n",
              "      <td>no</td>\n",
              "      <td>no-recurrence-events</td>\n",
              "    </tr>\n",
              "    <tr>\n",
              "      <th>2</th>\n",
              "      <td>50-59</td>\n",
              "      <td>ge40</td>\n",
              "      <td>35-39</td>\n",
              "      <td>0-2</td>\n",
              "      <td>no</td>\n",
              "      <td>2</td>\n",
              "      <td>left</td>\n",
              "      <td>left_low</td>\n",
              "      <td>no</td>\n",
              "      <td>recurrence-events</td>\n",
              "    </tr>\n",
              "    <tr>\n",
              "      <th>3</th>\n",
              "      <td>40-49</td>\n",
              "      <td>premeno</td>\n",
              "      <td>35-39</td>\n",
              "      <td>0-2</td>\n",
              "      <td>yes</td>\n",
              "      <td>3</td>\n",
              "      <td>right</td>\n",
              "      <td>left_low</td>\n",
              "      <td>yes</td>\n",
              "      <td>no-recurrence-events</td>\n",
              "    </tr>\n",
              "    <tr>\n",
              "      <th>4</th>\n",
              "      <td>40-49</td>\n",
              "      <td>premeno</td>\n",
              "      <td>30-34</td>\n",
              "      <td>2019-05-03 00:00:00</td>\n",
              "      <td>yes</td>\n",
              "      <td>2</td>\n",
              "      <td>left</td>\n",
              "      <td>right_up</td>\n",
              "      <td>no</td>\n",
              "      <td>recurrence-events</td>\n",
              "    </tr>\n",
              "  </tbody>\n",
              "</table>\n",
              "</div>"
            ],
            "text/plain": [
              "     age menopause tumor-size  ... breast-quad irradiat                 Class\n",
              "0  40-49   premeno      15-19  ...     left_up       no     recurrence-events\n",
              "1  50-59      ge40      15-19  ...     central       no  no-recurrence-events\n",
              "2  50-59      ge40      35-39  ...    left_low       no     recurrence-events\n",
              "3  40-49   premeno      35-39  ...    left_low      yes  no-recurrence-events\n",
              "4  40-49   premeno      30-34  ...    right_up       no     recurrence-events\n",
              "\n",
              "[5 rows x 10 columns]"
            ]
          },
          "metadata": {
            "tags": []
          },
          "execution_count": 82
        }
      ]
    },
    {
      "cell_type": "code",
      "metadata": {
        "id": "nfVxxNaRfEFj"
      },
      "source": [
        "# Analysing each column in detail"
      ],
      "execution_count": null,
      "outputs": []
    },
    {
      "cell_type": "code",
      "metadata": {
        "id": "72rUUacFuUPN",
        "colab": {
          "base_uri": "https://localhost:8080/",
          "height": 304
        },
        "outputId": "bffea454-9428-43c6-e709-81310efd781d"
      },
      "source": [
        "raw_data['age'].value_counts().plot.bar()\n",
        "# 6 different age groups found (i.e. 6 distinct values). Age group with the most data seems to be between 40-59\n",
        "# Approach is to use dummy variables to represent each age group as more than 2 categories present"
      ],
      "execution_count": null,
      "outputs": [
        {
          "output_type": "execute_result",
          "data": {
            "text/plain": [
              "<matplotlib.axes._subplots.AxesSubplot at 0x7fc77c26d160>"
            ]
          },
          "metadata": {
            "tags": []
          },
          "execution_count": 84
        },
        {
          "output_type": "display_data",
          "data": {
            "image/png": "[encoded data removed]",
            "text/plain": [
              "<Figure size 432x288 with 1 Axes>"
            ]
          },
          "metadata": {
            "tags": [],
            "needs_background": "light"
          }
        }
      ]
    },
    {
      "cell_type": "code",
      "metadata": {
        "id": "4gvD8MXovW3n",
        "colab": {
          "base_uri": "https://localhost:8080/",
          "height": 317
        },
        "outputId": "e49a6084-2624-4c81-b767-07ac4a33640f"
      },
      "source": [
        "raw_data['menopause'].value_counts().plot.bar()\n",
        "# 3 different menopause categories found (i.e. 3 distinct values). Very few with lt40\n",
        "# Approach is to use dummy variables to represent each menopause category as more than 2 categories present"
      ],
      "execution_count": null,
      "outputs": [
        {
          "output_type": "execute_result",
          "data": {
            "text/plain": [
              "<matplotlib.axes._subplots.AxesSubplot at 0x7fc77c30aa90>"
            ]
          },
          "metadata": {
            "tags": []
          },
          "execution_count": 85
        },
        {
          "output_type": "display_data",
          "data": {
            "image/png": "[encoded data removed]",
            "text/plain": [
              "<Figure size 432x288 with 1 Axes>"
            ]
          },
          "metadata": {
            "tags": [],
            "needs_background": "light"
          }
        }
      ]
    },
    {
      "cell_type": "code",
      "metadata": {
        "id": "ad7VquZuvXU4",
        "colab": {
          "base_uri": "https://localhost:8080/",
          "height": 360
        },
        "outputId": "e6ce9a5f-5041-4f38-d2f7-bc5f09fcd9c0"
      },
      "source": [
        "raw_data['tumor-size'].value_counts().plot.bar()\n",
        "# 9 different tumor-size categories found (i.e. 9 distinct values).\n",
        "# two distinct datetime values with tumor-size values - errors within the dataset and needs to be cleaned\n",
        "df_tumor_values = raw_data['tumor-size'].value_counts().index\n",
        "df_tumor_values_timestamp_1 = df_tumor_values[4]\n",
        "df_tumor_values_timestamp_2 = df_tumor_values[9]"
      ],
      "execution_count": null,
      "outputs": [
        {
          "output_type": "display_data",
          "data": {
            "image/png": "[encoded data removed]",
            "text/plain": [
              "<Figure size 432x288 with 1 Axes>"
            ]
          },
          "metadata": {
            "tags": [],
            "needs_background": "light"
          }
        }
      ]
    },
    {
      "cell_type": "code",
      "metadata": {
        "id": "hXGJkTtrvXaC",
        "colab": {
          "base_uri": "https://localhost:8080/",
          "height": 377
        },
        "outputId": "296e2ade-bb8f-4e48-e988-9c658bbe282e"
      },
      "source": [
        "raw_data['inv-nodes'].value_counts().plot.bar()\n",
        "# several date values within this column\n",
        "# majority of values are labelled 0-2 (small variance) - hence drop this column"
      ],
      "execution_count": null,
      "outputs": [
        {
          "output_type": "execute_result",
          "data": {
            "text/plain": [
              "<matplotlib.axes._subplots.AxesSubplot at 0x7fc77c255cc0>"
            ]
          },
          "metadata": {
            "tags": []
          },
          "execution_count": 87
        },
        {
          "output_type": "display_data",
          "data": {
            "image/png": "[encoded data removed]",
            "text/plain": [
              "<Figure size 432x288 with 1 Axes>"
            ]
          },
          "metadata": {
            "tags": [],
            "needs_background": "light"
          }
        }
      ]
    },
    {
      "cell_type": "code",
      "metadata": {
        "id": "0yIasLcIvXXy"
      },
      "source": [
        ""
      ],
      "execution_count": null,
      "outputs": []
    },
    {
      "cell_type": "code",
      "metadata": {
        "id": "G0mxhsqcwSj5",
        "colab": {
          "base_uri": "https://localhost:8080/",
          "height": 290
        },
        "outputId": "ee5972ea-0adb-440e-ba3e-8ea06f73483f"
      },
      "source": [
        "raw_data['node-caps'].value_counts().plot.bar()\n",
        "# 2 different node-caps categories found (i.e. 2 distinct values). Mostly no.\n",
        "# Approach is to use Label Encoder to represent Yes/No category as only 2 categories are present.\n",
        "# Some missing values that needs to be cleaned"
      ],
      "execution_count": null,
      "outputs": [
        {
          "output_type": "execute_result",
          "data": {
            "text/plain": [
              "<matplotlib.axes._subplots.AxesSubplot at 0x7fc77c573630>"
            ]
          },
          "metadata": {
            "tags": []
          },
          "execution_count": 88
        },
        {
          "output_type": "display_data",
          "data": {
            "image/png": "[encoded data removed]",
            "text/plain": [
              "<Figure size 432x288 with 1 Axes>"
            ]
          },
          "metadata": {
            "tags": [],
            "needs_background": "light"
          }
        }
      ]
    },
    {
      "cell_type": "code",
      "metadata": {
        "id": "Epo4hXqKwS0w",
        "colab": {
          "base_uri": "https://localhost:8080/",
          "height": 279
        },
        "outputId": "3fef9734-9ff5-4211-df3b-804df8a9a482"
      },
      "source": [
        "raw_data['deg-malig'].value_counts().plot.bar()\n",
        "# 3 different deg-malig categories found (i.e. 3 distinct values)"
      ],
      "execution_count": null,
      "outputs": [
        {
          "output_type": "execute_result",
          "data": {
            "text/plain": [
              "<matplotlib.axes._subplots.AxesSubplot at 0x7fc77c006fd0>"
            ]
          },
          "metadata": {
            "tags": []
          },
          "execution_count": 89
        },
        {
          "output_type": "display_data",
          "data": {
            "image/png": "[encoded data removed]",
            "text/plain": [
              "<Figure size 432x288 with 1 Axes>"
            ]
          },
          "metadata": {
            "tags": [],
            "needs_background": "light"
          }
        }
      ]
    },
    {
      "cell_type": "code",
      "metadata": {
        "id": "demqi6iFwS3Q",
        "colab": {
          "base_uri": "https://localhost:8080/",
          "height": 296
        },
        "outputId": "df53efcc-3fb4-4f28-dd55-629ea031009d"
      },
      "source": [
        "raw_data['breast'].value_counts().plot.bar()\n",
        "# 2 different deg-malig categories found (i.e. 2 distinct values)"
      ],
      "execution_count": null,
      "outputs": [
        {
          "output_type": "execute_result",
          "data": {
            "text/plain": [
              "<matplotlib.axes._subplots.AxesSubplot at 0x7fc77bf75ba8>"
            ]
          },
          "metadata": {
            "tags": []
          },
          "execution_count": 90
        },
        {
          "output_type": "display_data",
          "data": {
            "image/png": "[encoded data removed]",
            "text/plain": [
              "<Figure size 432x288 with 1 Axes>"
            ]
          },
          "metadata": {
            "tags": [],
            "needs_background": "light"
          }
        }
      ]
    },
    {
      "cell_type": "code",
      "metadata": {
        "id": "Jh_JwxFRwSpo",
        "colab": {
          "base_uri": "https://localhost:8080/",
          "height": 318
        },
        "outputId": "80f8fac9-59e5-4b61-bf86-f498cdf5f90c"
      },
      "source": [
        "raw_data['breast-quad'].value_counts().plot.bar()\n",
        "# 5 different node-caps categories found (i.e. 5 distinct values)\n",
        "# Some missing values that needs to be cleaned"
      ],
      "execution_count": null,
      "outputs": [
        {
          "output_type": "execute_result",
          "data": {
            "text/plain": [
              "<matplotlib.axes._subplots.AxesSubplot at 0x7fc77c3ab668>"
            ]
          },
          "metadata": {
            "tags": []
          },
          "execution_count": 91
        },
        {
          "output_type": "display_data",
          "data": {
            "image/png": "[encoded data removed]",
            "text/plain": [
              "<Figure size 432x288 with 1 Axes>"
            ]
          },
          "metadata": {
            "tags": [],
            "needs_background": "light"
          }
        }
      ]
    },
    {
      "cell_type": "code",
      "metadata": {
        "id": "dhAyv3DXwSml",
        "colab": {
          "base_uri": "https://localhost:8080/",
          "height": 290
        },
        "outputId": "724ae101-4fdd-4450-e249-135257c6d6fd"
      },
      "source": [
        "raw_data['irradiat'].value_counts().plot.bar()\n",
        "# 2 different deg-malig categories found (i.e. 2 distinct values)"
      ],
      "execution_count": null,
      "outputs": [
        {
          "output_type": "execute_result",
          "data": {
            "text/plain": [
              "<matplotlib.axes._subplots.AxesSubplot at 0x7fc77c120f60>"
            ]
          },
          "metadata": {
            "tags": []
          },
          "execution_count": 92
        },
        {
          "output_type": "display_data",
          "data": {
            "image/png": "[encoded data removed]",
            "text/plain": [
              "<Figure size 432x288 with 1 Axes>"
            ]
          },
          "metadata": {
            "tags": [],
            "needs_background": "light"
          }
        }
      ]
    },
    {
      "cell_type": "code",
      "metadata": {
        "id": "0BuEXvcAwSNY",
        "colab": {
          "base_uri": "https://localhost:8080/",
          "height": 380
        },
        "outputId": "a3897159-e1f8-4d97-90c1-9162e3cb3d21"
      },
      "source": [
        "raw_data['Class'].value_counts().plot.bar()\n",
        "# 2 different deg-malig categories found (i.e. 2 distinct values)"
      ],
      "execution_count": null,
      "outputs": [
        {
          "output_type": "execute_result",
          "data": {
            "text/plain": [
              "<matplotlib.axes._subplots.AxesSubplot at 0x7fc77c4665f8>"
            ]
          },
          "metadata": {
            "tags": []
          },
          "execution_count": 93
        },
        {
          "output_type": "display_data",
          "data": {
            "image/png": "[encoded data removed]",
            "text/plain": [
              "<Figure size 432x288 with 1 Axes>"
            ]
          },
          "metadata": {
            "tags": [],
            "needs_background": "light"
          }
        }
      ]
    },
    {
      "cell_type": "markdown",
      "metadata": {
        "id": "8uMrnBaskYUd"
      },
      "source": [
        "Create any data pre-processing that you will conduct on seen and unseen data. Regardless of the model you use, this dataframe must contain only numeric features and have a strategy for any expected missing values. Any objects can that are needed to handle the test data that are dependent on the training data can be stored in the model class. You are recommended to use sklearn Pipelines or similar functionality to ensure reproducibility."
      ]
    },
    {
      "cell_type": "code",
      "metadata": {
        "id": "RFL406rBbvso"
      },
      "source": [
        "# data cleaning\n",
        "# approach is to remove index with missing values (i.e. \"?\") or with a datetime object type\n",
        "# Goal is to minimise False Negative errors - and incorrect labelling using mean/mode values could impact model performance on unseen data\n",
        "\n",
        "# preprocessing functions created for test and train data as they are split at the beginning of the process\n",
        "# main difference is for the test preprocessing, not all columns may be present due to the split hence is added at the end of the step"
      ],
      "execution_count": null,
      "outputs": []
    },
    {
      "cell_type": "code",
      "metadata": {
        "id": "9CEGRzU-kbDL"
      },
      "source": [
        "def preprocessing_train(raw_data):\n",
        "\n",
        "  raw_data = raw_data.drop([\"inv-nodes\"], axis = 1)\n",
        "  # removing datetime objects from tumor-size\n",
        "  raw_data = raw_data.drop(raw_data[(raw_data[\"tumor-size\"] == df_tumor_values_timestamp_1) | (raw_data[\"tumor-size\"] == df_tumor_values_timestamp_2) | (raw_data[\"node-caps\"] == \"?\") | (raw_data['breast-quad'] == \"?\") ].index )\n",
        "     \n",
        "  # changing variables to catagorical values\n",
        "  # defining the target variable y\n",
        "  y = raw_data.iloc[:,-1]\n",
        "\n",
        "  # changing target to catagorical variables using label encoder to obtain an array\n",
        "  labelencoder = LabelEncoder()\n",
        "  y = labelencoder.fit_transform(y)\n",
        "\n",
        "  # changing variables to catagorical values for input variables\n",
        "  X = raw_data.iloc[:,:8]\n",
        "\n",
        "  # changing all input variables to catagorical values using pandas get dummies. First column for each input variable dropped to avoid dummy variable trap\n",
        "  X = X.astype('category')\n",
        "  X = pd.get_dummies(X, drop_first = True)\n",
        "\n",
        "  X = X.reindex(sorted(X.columns), axis=1)\n",
        "\n",
        "  return X, y"
      ],
      "execution_count": null,
      "outputs": []
    },
    {
      "cell_type": "code",
      "metadata": {
        "id": "WgkLn_NUIB2D"
      },
      "source": [
        "def preprocessing_test(raw_data):\n",
        "  \n",
        "  raw_data = raw_data.drop([\"inv-nodes\"], axis = 1)\n",
        "  # removing datetime objects from tumor-size\n",
        "  raw_data = raw_data.drop(raw_data[(raw_data[\"tumor-size\"] == df_tumor_values_timestamp_1) | (raw_data[\"tumor-size\"] == df_tumor_values_timestamp_2) | (raw_data[\"node-caps\"] == \"?\") | (raw_data['breast-quad'] == \"?\") ].index )\n",
        "     \n",
        "  # changing variables to catagorical values\n",
        "  # defining the target variable y\n",
        "  y = raw_data.iloc[:,-1]\n",
        "\n",
        "  # changing target to catagorical variables using label encoder to obtain an array\n",
        "  labelencoder = LabelEncoder()\n",
        "  y = labelencoder.fit_transform(y)\n",
        "\n",
        "  # changing variables to catagorical values for input variables\n",
        "  X = raw_data.iloc[:,:8]\n",
        "\n",
        "  # changing all input variables to catagorical values using pandas get dummies. First column for each input variable dropped to avoid dummy variable trap\n",
        "  X = X.astype('category')\n",
        "  X = pd.get_dummies(X, drop_first = True)\n",
        "\n",
        "  # if columns are not the same size as the x_train columns - add these missing columns\n",
        "  extra_col = []\n",
        "\n",
        "  if X_train.shape[1] != X.shape[1]:\n",
        "    for i in range((X_train.shape[1])):\n",
        "      if X_train.columns[i] not in X.columns:\n",
        "        extra_col.append(X_train.columns[i])\n",
        " \n",
        "  if len(extra_col) != 0:\n",
        "    for i in range(len(extra_col)):\n",
        "      X[extra_col[i]] = 0\n",
        "\n",
        "  # sorted to ensure consistent column format to train data\n",
        "  X = X.reindex(sorted(X.columns), axis=1)\n",
        "\n",
        "  return X, y"
      ],
      "execution_count": null,
      "outputs": []
    },
    {
      "cell_type": "code",
      "metadata": {
        "id": "3ZkT1XbOfEFs"
      },
      "source": [
        "# Populate preprocess_training_data and preprocess_test_data to preprocess data.\n",
        "# You must process test and train separately so your model does not accidently gain information that a model wouldnt have in reality and therefore get better predictions"
      ],
      "execution_count": null,
      "outputs": []
    },
    {
      "cell_type": "code",
      "metadata": {
        "id": "0hLk4jTbfEFu"
      },
      "source": [
        "class Module4_Model:\n",
        "    \n",
        "    def __init__(self):\n",
        "        self.model = None\n",
        "    \n",
        "    def train_test_split(self,raw_data):\n",
        "      train, test = train_test_split(raw_data, test_size = 0.25, random_state = 42)\n",
        "      return train, test\n",
        "\n",
        "    def preprocess_training_data(self, train):\n",
        "      \n",
        "      X_train, y_train = preprocessing_train(train)\n",
        "      return X_train, y_train\n",
        "\n",
        "    def preprocess_test_data(self, test):\n",
        "      \n",
        "      X_test, y_test = preprocessing_test(test)\n",
        "      return  X_test, y_test"
      ],
      "execution_count": null,
      "outputs": []
    },
    {
      "cell_type": "code",
      "metadata": {
        "id": "HeCKLLFafEFw"
      },
      "source": [
        "# Dont change\n",
        "my_model = Module4_Model()"
      ],
      "execution_count": null,
      "outputs": []
    },
    {
      "cell_type": "code",
      "metadata": {
        "id": "g9C-sOLnfEFy"
      },
      "source": [
        "# Dont change\n",
        "# data is split before the preprocessing steps are applied\n",
        "train, test = my_model.train_test_split(raw_data)\n",
        "# data preprocessing to get train values\n",
        "X_train, y_train = my_model.preprocess_training_data(train)"
      ],
      "execution_count": null,
      "outputs": []
    },
    {
      "cell_type": "code",
      "metadata": {
        "id": "j7xNOAfDfEF0"
      },
      "source": [
        "# Create a model"
      ],
      "execution_count": null,
      "outputs": []
    },
    {
      "cell_type": "code",
      "metadata": {
        "id": "Z7lQw4Z4qaWI"
      },
      "source": [
        "# First model using a simple logistic regression model"
      ],
      "execution_count": null,
      "outputs": []
    },
    {
      "cell_type": "code",
      "metadata": {
        "id": "aqJ9TJLQqZ9w",
        "colab": {
          "base_uri": "https://localhost:8080/",
          "height": 312
        },
        "outputId": "f8024dd0-9a6a-43a8-977c-9f0e0a4aacde"
      },
      "source": [
        "# Train your model\n",
        "classifier  = LogisticRegression()\n",
        "classifier.fit(X_train.values, y_train)\n",
        "\n",
        "# as we need to reduce the number of false negatives - the precision and recall graphs for different thresholds are shown on the training data\n",
        "probs_y = classifier.predict_proba(X_train)\n",
        "\n",
        "precision, recall, thresholds = precision_recall_curve(y_train, probs_y[:, \n",
        "1]) \n",
        "\n",
        "#retrieve probability of being 1(in second column of probs_y)\n",
        "pr_auc = auc(recall, precision)\n",
        "\n",
        "plt.title(\"Precision-Recall vs Threshold Chart\")\n",
        "plt.plot(thresholds, precision[: -1], \"b--\", label=\"Precision\")\n",
        "plt.plot(thresholds, recall[: -1], \"r--\", label=\"Recall\")\n",
        "plt.ylabel(\"Precision, Recall\")\n",
        "plt.xlabel(\"Threshold\")\n",
        "plt.legend(loc=\"lower left\")\n",
        "plt.ylim([0,1])\n",
        "\n",
        "# a threshold value of 0.4 is chosen based on the training dataset"
      ],
      "execution_count": null,
      "outputs": [
        {
          "output_type": "execute_result",
          "data": {
            "text/plain": [
              "(0.0, 1.0)"
            ]
          },
          "metadata": {
            "tags": []
          },
          "execution_count": 255
        },
        {
          "output_type": "display_data",
          "data": {
            "image/png": "[encoded data removed]",
            "text/plain": [
              "<Figure size 432x288 with 1 Axes>"
            ]
          },
          "metadata": {
            "tags": [],
            "needs_background": "light"
          }
        }
      ]
    },
    {
      "cell_type": "code",
      "metadata": {
        "colab": {
          "base_uri": "https://localhost:8080/"
        },
        "id": "AOAC4y0IZr7p",
        "outputId": "29dacc26-90a7-41a5-d0b1-8118ce03ce98"
      },
      "source": [
        "# Dont change - calling test set\n",
        "X_test, y_test = my_model.preprocess_test_data(test)\n",
        "\n",
        "# use your model to make a prediction on unseen data\n",
        "# based on default threshold\n",
        "y_pred = classifier.predict(X_test.values)\n",
        "\n",
        "# Asssess the accuracy of your model and explain your key findings\n",
        "cm = confusion_matrix(y_test, y_pred)\n",
        "print(cm)\n",
        "log_report = classification_report(y_test, y_pred)\n",
        "print(log_report)"
      ],
      "execution_count": null,
      "outputs": [
        {
          "output_type": "stream",
          "text": [
            "[[40  1]\n",
            " [15  4]]\n",
            "              precision    recall  f1-score   support\n",
            "\n",
            "           0       0.73      0.98      0.83        41\n",
            "           1       0.80      0.21      0.33        19\n",
            "\n",
            "    accuracy                           0.73        60\n",
            "   macro avg       0.76      0.59      0.58        60\n",
            "weighted avg       0.75      0.73      0.68        60\n",
            "\n"
          ],
          "name": "stdout"
        }
      ]
    },
    {
      "cell_type": "code",
      "metadata": {
        "colab": {
          "base_uri": "https://localhost:8080/"
        },
        "id": "dq7pFn5gceBW",
        "outputId": "15382971-f149-4384-979d-69b27b0ce9c9"
      },
      "source": [
        "# with 0.4 as threshold\n",
        "threshold = 0.4\n",
        "y_pred_2  =((classifier.predict_proba(X_test)[:, 1])>= threshold).astype(int)\n",
        "\n",
        "cm_2 = confusion_matrix(y_test, y_pred_2)\n",
        "print(cm_2)\n",
        "log_report_2 = classification_report(y_test, y_pred_2)\n",
        "print(log_report_2)"
      ],
      "execution_count": null,
      "outputs": [
        {
          "output_type": "stream",
          "text": [
            "[[37  4]\n",
            " [10  9]]\n",
            "              precision    recall  f1-score   support\n",
            "\n",
            "           0       0.79      0.90      0.84        41\n",
            "           1       0.69      0.47      0.56        19\n",
            "\n",
            "    accuracy                           0.77        60\n",
            "   macro avg       0.74      0.69      0.70        60\n",
            "weighted avg       0.76      0.77      0.75        60\n",
            "\n"
          ],
          "name": "stdout"
        }
      ]
    },
    {
      "cell_type": "code",
      "metadata": {
        "id": "n2OnIVx9qZnX"
      },
      "source": [
        "# Accuracy of 77% with the model predicting more accurate in predicting no-recurrence-events than recurrence-events\n",
        "# increased f1-score for predicting in predicting positive cases when threshold is changed"
      ],
      "execution_count": null,
      "outputs": []
    },
    {
      "cell_type": "markdown",
      "metadata": {
        "id": "9IGahfSwfEGG"
      },
      "source": [
        "### Unit tests:"
      ]
    },
    {
      "cell_type": "markdown",
      "metadata": {
        "id": "J9A65GPBfEGG"
      },
      "source": [
        "#### Checking training and test data for null values. This will work for both pd dataframes and np arrays, and ensures no null values exist."
      ]
    },
    {
      "cell_type": "code",
      "metadata": {
        "id": "33gXgbodfEGH"
      },
      "source": [
        "def test_no_nulls(data):\n",
        "    \"\"\" Assert no null values within pd dataframe or np array \"\"\"\n",
        "    \n",
        "    # if data is numpy array, handle accordingly\n",
        "    if isinstance(data, (np.ndarray)):\n",
        "        assert not np.isnan(np.min(data))\n",
        "    \n",
        "    # if not np array, assume data is pandas dataframe\n",
        "    else:\n",
        "        assert data.isna().sum().sum() == 0"
      ],
      "execution_count": null,
      "outputs": []
    },
    {
      "cell_type": "code",
      "metadata": {
        "id": "3HIeDZZ8fEGJ"
      },
      "source": [
        "# run null data unit test on both training and test data\n",
        "test_no_nulls(x_train_processed)\n",
        "test_no_nulls(x_test_processed)"
      ],
      "execution_count": null,
      "outputs": []
    }
  ]
}